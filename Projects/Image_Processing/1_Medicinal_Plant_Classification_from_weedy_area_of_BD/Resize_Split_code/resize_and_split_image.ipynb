{
 "cells": [
  {
   "cell_type": "code",
   "execution_count": 1,
   "id": "f5a9655b-07d0-4540-84ee-bd06ac750e7f",
   "metadata": {},
   "outputs": [
    {
     "name": "stdout",
     "output_type": "stream",
     "text": [
      "Requirement already satisfied: pillow in c:\\users\\creative_nur\\appdata\\local\\programs\\python\\python313\\lib\\site-packages (11.2.1)\n"
     ]
    }
   ],
   "source": [
    "!pip install pillow\n"
   ]
  },
  {
   "cell_type": "code",
   "execution_count": 2,
   "id": "5e11d949-83a9-4845-bf74-c734fb073f78",
   "metadata": {},
   "outputs": [],
   "source": [
    "import os\n",
    "from PIL import Image\n"
   ]
  },
  {
   "cell_type": "code",
   "execution_count": 3,
   "id": "bf249eea-d5c8-46ae-aa4e-50e7102e3ee5",
   "metadata": {},
   "outputs": [],
   "source": [
    "# Set the base and output directory\n",
    "base_dir = 'F:/Semester/Research/Medicinal Weedy area plants classifications/Main Dataset/weedy_area_medicinal_plants_Original_size'\n",
    "output_dir = 'F:/Semester/Research/Medicinal Weedy area plants classifications/Main Dataset/resized_medicinal_image_dataset_2'\n",
    "\n",
    "# Target image size (width, height)\n",
    "target_size = (300, 300)\n",
    "\n",
    "# Create output directory if it doesn't exist\n",
    "os.makedirs(output_dir, exist_ok=True)\n"
   ]
  },
  {
   "cell_type": "code",
   "execution_count": 4,
   "id": "a9feb419-03d9-4ce6-8d3f-7a0d513ec393",
   "metadata": {},
   "outputs": [
    {
     "name": "stdout",
     "output_type": "stream",
     "text": [
      "✅ Image resizing completed successfully.\n"
     ]
    }
   ],
   "source": [
    "# Loop through each class folder and resize images\n",
    "for class_name in os.listdir(base_dir):\n",
    "    class_path = os.path.join(base_dir, class_name)\n",
    "    output_class_path = os.path.join(output_dir, class_name)\n",
    "\n",
    "    # Skip if not a directory\n",
    "    if not os.path.isdir(class_path):\n",
    "        continue\n",
    "\n",
    "    # Create output class directory\n",
    "    os.makedirs(output_class_path, exist_ok=True)\n",
    "\n",
    "    for img_name in os.listdir(class_path):\n",
    "        img_path = os.path.join(class_path, img_name)\n",
    "        output_img_path = os.path.join(output_class_path, img_name)\n",
    "\n",
    "        try:\n",
    "            with Image.open(img_path) as img:\n",
    "                img = img.convert(\"RGB\")  # Ensure consistent color mode\n",
    "                img = img.resize(target_size)\n",
    "                img.save(output_img_path)\n",
    "        except Exception as e:\n",
    "            print(f\"Failed to process {img_path}: {e}\")\n",
    "print(\"✅ Image resizing completed successfully.\")"
   ]
  },
  {
   "cell_type": "code",
   "execution_count": 5,
   "id": "bd891e02-0245-42fe-bc67-7d7412ab0407",
   "metadata": {},
   "outputs": [],
   "source": [
    "import os\n",
    "import shutil\n",
    "import random\n"
   ]
  },
  {
   "cell_type": "code",
   "execution_count": 8,
   "id": "daeeaf77-2c45-4e43-957b-cd5dd8592ce1",
   "metadata": {},
   "outputs": [],
   "source": [
    "# Correct source directory\n",
    "source_dir = 'F:/Semester/Research/Medicinal Weedy area plants classifications/Main Dataset/resized_medicinal_image_dataset_2'\n",
    "\n",
    "# Output directory for the split dataset\n",
    "output_base_dir = 'F:/Semester/Research/Medicinal Weedy area plants classifications/Main Dataset/medicinal_weedy_area_image_dataset_version2'\n",
    "train_dir = os.path.join(output_base_dir, 'train')\n",
    "val_dir = os.path.join(output_base_dir, 'val')\n",
    "test_dir = os.path.join(output_base_dir, 'test')\n",
    "\n",
    "# Split ratios\n",
    "train_ratio = 0.7\n",
    "val_ratio = 0.15\n",
    "test_ratio = 0.15\n",
    "\n",
    "# Create output folders\n",
    "for path in [train_dir, val_dir, test_dir]:\n",
    "    os.makedirs(path, exist_ok=True)\n"
   ]
  },
  {
   "cell_type": "code",
   "execution_count": 9,
   "id": "71b04cb5-d868-4ebc-a154-b09ec0e676d4",
   "metadata": {},
   "outputs": [
    {
     "name": "stdout",
     "output_type": "stream",
     "text": [
      "✅ Dataset split completed: train, val, and test sets created.\n"
     ]
    }
   ],
   "source": [
    "for class_name in os.listdir(source_dir):\n",
    "    class_path = os.path.join(source_dir, class_name)\n",
    "    if not os.path.isdir(class_path):\n",
    "        continue\n",
    "\n",
    "    images = [f for f in os.listdir(class_path) if f.lower().endswith(('.png', '.jpg', '.jpeg'))]\n",
    "    random.shuffle(images)\n",
    "\n",
    "    n_total = len(images)\n",
    "    n_train = int(train_ratio * n_total)\n",
    "    n_val = int(val_ratio * n_total)\n",
    "\n",
    "    train_images = images[:n_train]\n",
    "    val_images = images[n_train:n_train + n_val]\n",
    "    test_images = images[n_train + n_val:]\n",
    "\n",
    "    for img_name in train_images:\n",
    "        src = os.path.join(class_path, img_name)\n",
    "        dst = os.path.join(train_dir, class_name)\n",
    "        os.makedirs(dst, exist_ok=True)\n",
    "        shutil.copy(src, os.path.join(dst, img_name))\n",
    "\n",
    "    for img_name in val_images:\n",
    "        src = os.path.join(class_path, img_name)\n",
    "        dst = os.path.join(val_dir, class_name)\n",
    "        os.makedirs(dst, exist_ok=True)\n",
    "        shutil.copy(src, os.path.join(dst, img_name))\n",
    "\n",
    "    for img_name in test_images:\n",
    "        src = os.path.join(class_path, img_name)\n",
    "        dst = os.path.join(test_dir, class_name)\n",
    "        os.makedirs(dst, exist_ok=True)\n",
    "        shutil.copy(src, os.path.join(dst, img_name))\n",
    "        \n",
    "print(\"✅ Dataset split completed: train, val, and test sets created.\")\n"
   ]
  },
  {
   "cell_type": "code",
   "execution_count": null,
   "id": "6b1f2c74-d941-4edd-a88c-644eb0d50757",
   "metadata": {},
   "outputs": [],
   "source": []
  }
 ],
 "metadata": {
  "kernelspec": {
   "display_name": "Python 3 (ipykernel)",
   "language": "python",
   "name": "python3"
  },
  "language_info": {
   "codemirror_mode": {
    "name": "ipython",
    "version": 3
   },
   "file_extension": ".py",
   "mimetype": "text/x-python",
   "name": "python",
   "nbconvert_exporter": "python",
   "pygments_lexer": "ipython3",
   "version": "3.13.3"
  }
 },
 "nbformat": 4,
 "nbformat_minor": 5
}
