{
 "cells": [
  {
   "cell_type": "code",
   "execution_count": 1,
   "id": "f5a9655b-07d0-4540-84ee-bd06ac750e7f",
   "metadata": {},
   "outputs": [
    {
     "name": "stdout",
     "output_type": "stream",
     "text": [
      "Requirement already satisfied: pillow in c:\\users\\creative_nur\\appdata\\local\\programs\\python\\python310\\lib\\site-packages (9.5.0)\n"
     ]
    }
   ],
   "source": [
    "!pip install pillow\n"
   ]
  },
  {
   "cell_type": "code",
   "execution_count": 2,
   "id": "bd891e02-0245-42fe-bc67-7d7412ab0407",
   "metadata": {},
   "outputs": [],
   "source": [
    "import os\n",
    "import shutil\n",
    "import random\n"
   ]
  },
  {
   "cell_type": "code",
   "execution_count": 3,
   "id": "daeeaf77-2c45-4e43-957b-cd5dd8592ce1",
   "metadata": {},
   "outputs": [],
   "source": [
    "# Correct source directory\n",
    "source_dir = 'F:/Semester/Research/Medicinal Weedy area plants classifications/Main Dataset/augmented_images_output'\n",
    "\n",
    "# Output directory for the split dataset\n",
    "output_base_dir = 'F:/Semester/Research/Medicinal Weedy area plants classifications/Main Dataset/medicinal_weedy_area_image_dataset_version2'\n",
    "train_dir = os.path.join(output_base_dir, 'train')\n",
    "val_dir = os.path.join(output_base_dir, 'val')\n",
    "test_dir = os.path.join(output_base_dir, 'test')\n",
    "\n",
    "# Split ratios\n",
    "train_ratio = 0.7\n",
    "val_ratio = 0.15\n",
    "test_ratio = 0.15\n",
    "\n",
    "# Create output folders\n",
    "for path in [train_dir, val_dir, test_dir]:\n",
    "    os.makedirs(path, exist_ok=True)\n"
   ]
  },
  {
   "cell_type": "code",
   "execution_count": 4,
   "id": "71b04cb5-d868-4ebc-a154-b09ec0e676d4",
   "metadata": {},
   "outputs": [
    {
     "name": "stdout",
     "output_type": "stream",
     "text": [
      "✅ Dataset split completed: train, val, and test sets created.\n"
     ]
    }
   ],
   "source": [
    "for class_name in os.listdir(source_dir):\n",
    "    class_path = os.path.join(source_dir, class_name)\n",
    "    if not os.path.isdir(class_path):\n",
    "        continue\n",
    "\n",
    "    images = [f for f in os.listdir(class_path) if f.lower().endswith(('.png', '.jpg', '.jpeg'))]\n",
    "    random.shuffle(images)\n",
    "\n",
    "    n_total = len(images)\n",
    "    n_train = int(train_ratio * n_total)\n",
    "    n_val = int(val_ratio * n_total)\n",
    "\n",
    "    train_images = images[:n_train]\n",
    "    val_images = images[n_train:n_train + n_val]\n",
    "    test_images = images[n_train + n_val:]\n",
    "\n",
    "    for img_name in train_images:\n",
    "        src = os.path.join(class_path, img_name)\n",
    "        dst = os.path.join(train_dir, class_name)\n",
    "        os.makedirs(dst, exist_ok=True)\n",
    "        shutil.copy(src, os.path.join(dst, img_name))\n",
    "\n",
    "    for img_name in val_images:\n",
    "        src = os.path.join(class_path, img_name)\n",
    "        dst = os.path.join(val_dir, class_name)\n",
    "        os.makedirs(dst, exist_ok=True)\n",
    "        shutil.copy(src, os.path.join(dst, img_name))\n",
    "\n",
    "    for img_name in test_images:\n",
    "        src = os.path.join(class_path, img_name)\n",
    "        dst = os.path.join(test_dir, class_name)\n",
    "        os.makedirs(dst, exist_ok=True)\n",
    "        shutil.copy(src, os.path.join(dst, img_name))\n",
    "        \n",
    "print(\"✅ Dataset split completed: train, val, and test sets created.\")\n"
   ]
  },
  {
   "cell_type": "code",
   "execution_count": null,
   "id": "6b1f2c74-d941-4edd-a88c-644eb0d50757",
   "metadata": {},
   "outputs": [],
   "source": []
  }
 ],
 "metadata": {
  "kernelspec": {
   "display_name": "Python 3 (ipykernel)",
   "language": "python",
   "name": "python3"
  },
  "language_info": {
   "codemirror_mode": {
    "name": "ipython",
    "version": 3
   },
   "file_extension": ".py",
   "mimetype": "text/x-python",
   "name": "python",
   "nbconvert_exporter": "python",
   "pygments_lexer": "ipython3",
   "version": "3.10.0"
  }
 },
 "nbformat": 4,
 "nbformat_minor": 5
}
